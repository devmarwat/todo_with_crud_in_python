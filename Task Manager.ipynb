{
 "cells": [
  {
   "cell_type": "code",
   "execution_count": 51,
   "id": "64b94d88-a111-45b5-94b5-c2be933be6b6",
   "metadata": {},
   "outputs": [],
   "source": [
    "lst=[1,2,2,3,3,'dfssfde',4,1,4,3,44,]\n"
   ]
  },
  {
   "cell_type": "code",
   "execution_count": 55,
   "id": "f9e62c2e-64f4-453e-8e73-af8dda70fbc0",
   "metadata": {},
   "outputs": [
    {
     "data": {
      "text/plain": [
       "[1, 22]"
      ]
     },
     "execution_count": 55,
     "metadata": {},
     "output_type": "execute_result"
    }
   ],
   "source": []
  }
 ],
 "metadata": {
  "kernelspec": {
   "display_name": "Python 3 (ipykernel)",
   "language": "python",
   "name": "python3"
  },
  "language_info": {
   "codemirror_mode": {
    "name": "ipython",
    "version": 3
   },
   "file_extension": ".py",
   "mimetype": "text/x-python",
   "name": "python",
   "nbconvert_exporter": "python",
   "pygments_lexer": "ipython3",
   "version": "3.12.4"
  }
 },
 "nbformat": 4,
 "nbformat_minor": 5
}
